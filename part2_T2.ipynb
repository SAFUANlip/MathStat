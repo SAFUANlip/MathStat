{
 "cells": [
  {
   "cell_type": "code",
   "execution_count": 150,
   "id": "3e620a0f",
   "metadata": {},
   "outputs": [],
   "source": [
    "import matplotlib.pyplot as plt\n",
    "import numpy as np\n",
    "import scipy.stats as sps\n",
    "from scipy import stats\n",
    "import math \n",
    "import statistics \n",
    "from scipy.integrate import quad\n",
    "from sklearn import preprocessing\n",
    "import seaborn as sns\n",
    "from scipy.stats import chi2, t, f, norm\n",
    "import pandas as pd "
   ]
  },
  {
   "cell_type": "markdown",
   "id": "829c42bd",
   "metadata": {},
   "source": [
    "## a) Определить влияние возраста на содержание имунноглобулина в крови с помощью регрессионного анализа"
   ]
  },
  {
   "cell_type": "code",
   "execution_count": 151,
   "id": "aff11b9c",
   "metadata": {},
   "outputs": [],
   "source": [
    "data = pd.DataFrame({\"Ig\":[83,85,84,85,85,86,86,87,86,87,87,87,88,88,88,88,88,89,90,89,90,90,91,90,92],\n",
    "              \"age_group\":[1,1,2,2,2,2,2,2,3,3,3,3,3,3,3,3,3,3,3,4,4,4,4,5,5]})"
   ]
  },
  {
   "cell_type": "code",
   "execution_count": 152,
   "id": "724b9790",
   "metadata": {},
   "outputs": [],
   "source": [
    "data = pd.concat((pd.get_dummies(data[\"age_group\"], dtype = \"int64\"), data), axis=1)"
   ]
  },
  {
   "cell_type": "code",
   "execution_count": 153,
   "id": "3ebdbeb4",
   "metadata": {},
   "outputs": [],
   "source": [
    "data.drop(\"age_group\", axis = 1, inplace=True)"
   ]
  },
  {
   "cell_type": "code",
   "execution_count": 154,
   "id": "4ff95210",
   "metadata": {},
   "outputs": [],
   "source": [
    "feach_arr = data.loc[:, 1:5].to_numpy()\n",
    "target = data[\"Ig\"].to_numpy() "
   ]
  },
  {
   "cell_type": "code",
   "execution_count": 159,
   "id": "d5c0a8a1",
   "metadata": {},
   "outputs": [],
   "source": [
    "N, p = feach_arr.shape"
   ]
  },
  {
   "cell_type": "code",
   "execution_count": 164,
   "id": "da51f3a6",
   "metadata": {},
   "outputs": [
    {
     "name": "stdout",
     "output_type": "stream",
     "text": [
      "84.00ξ1 + 85.50ξ2 + 87.82ξ3 + 90.00ξ4 + 91.00ξ5\n"
     ]
    }
   ],
   "source": [
    "F = feach_arr.T @ feach_arr\n",
    "F_inv = np.linalg.inv(F)\n",
    "beta = F_inv@feach_arr.T@target\n",
    "print(f\"{beta[0]:.2f}ξ1 + {beta[1]:.2f}ξ2 + {beta[2]:.2f}ξ3 + {beta[3]:.2f}ξ4 + {beta[4]:.2f}ξ5\") "
   ]
  },
  {
   "cell_type": "code",
   "execution_count": 156,
   "id": "8a05a7d9",
   "metadata": {},
   "outputs": [],
   "source": [
    "RSS = (target - feach_arr@beta).T @ (target - feach_arr@beta)\n",
    "TSS = np.sum((target - target.mean())**2)\n",
    "R_2 = 1-RSS/TSS"
   ]
  },
  {
   "cell_type": "code",
   "execution_count": 161,
   "id": "18f8d405",
   "metadata": {},
   "outputs": [],
   "source": [
    "delta = R_2/(1-R_2**2)*(N-p)/(p-1)"
   ]
  },
  {
   "cell_type": "code",
   "execution_count": 163,
   "id": "395f5fb7",
   "metadata": {},
   "outputs": [
    {
     "name": "stdout",
     "output_type": "stream",
     "text": [
      "p-value: 4.327125635758729e-05\n"
     ]
    }
   ],
   "source": [
    "print(f\"p-value: {f.sf(delta, p-1, N-p)}\")"
   ]
  },
  {
   "cell_type": "markdown",
   "id": "adc6b08e",
   "metadata": {},
   "source": [
    "## значение меньше 0.05, значит мы можем опровергнуть гипотезу о незначимости регрессии "
   ]
  },
  {
   "cell_type": "markdown",
   "id": "b7a6e23d",
   "metadata": {},
   "source": [
    "## b) Провести попарное сравнение средних в рамках регрессионной модели"
   ]
  },
  {
   "cell_type": "code",
   "execution_count": 189,
   "id": "21e40aa5",
   "metadata": {},
   "outputs": [
    {
     "name": "stdout",
     "output_type": "stream",
     "text": [
      "p-value: 0.10310040890082377, 1 и 2 => возрастные группы однородны\n",
      "p-value: 0.00016620144877556306, мы отвергаем гипотезу о равенстве коэффициентов => 1 и 3 возрастные группы не однородны,\n",
      "p-value: 2.7821115006554983e-06, мы отвергаем гипотезу о равенстве коэффициентов => 1 и 4 возрастные группы не однородны,\n",
      "p-value: 2.4125702768335763e-06, мы отвергаем гипотезу о равенстве коэффициентов => 1 и 5 возрастные группы не однородны,\n",
      "p-value: 0.00039504010033405404, мы отвергаем гипотезу о равенстве коэффициентов => 2 и 3 возрастные группы не однородны,\n",
      "p-value: 2.553472490732934e-06, мы отвергаем гипотезу о равенстве коэффициентов => 2 и 4 возрастные группы не однородны,\n",
      "p-value: 4.0851831050086206e-06, мы отвергаем гипотезу о равенстве коэффициентов => 2 и 5 возрастные группы не однородны,\n",
      "p-value: 0.002393338704362199, мы отвергаем гипотезу о равенстве коэффициентов => 3 и 4 возрастные группы не однородны,\n",
      "p-value: 0.0010025629060045334, мы отвергаем гипотезу о равенстве коэффициентов => 3 и 5 возрастные группы не однородны,\n",
      "p-value: 0.2957913522747472, 4 и 5 => возрастные группы однородны\n"
     ]
    }
   ],
   "source": [
    "for i in range(p):\n",
    "    for j in range(i+1,p):\n",
    "        delta_ij = (beta[i] - beta[j])/(np.sqrt(RSS*(F_inv[i,i] + F_inv[j,j])))*np.sqrt(N-p)\n",
    "        p_value_ij = 2*t.sf(abs(delta_ij), N-p)\n",
    "        if p_value_ij > 0.05:\n",
    "            print(f\"p-value: {p_value_ij}, {i+1} и {j+1} => возрастные группы однородны\")\n",
    "        else:\n",
    "            print(f\"p-value: {p_value_ij}, мы отвергаем гипотезу о равенстве коэффициентов => {i+1} и {j+1} возрастные группы не однородны,\")"
   ]
  },
  {
   "cell_type": "code",
   "execution_count": null,
   "id": "f67911a9",
   "metadata": {},
   "outputs": [],
   "source": []
  }
 ],
 "metadata": {
  "kernelspec": {
   "display_name": "Python 3 (ipykernel)",
   "language": "python",
   "name": "python3"
  },
  "language_info": {
   "codemirror_mode": {
    "name": "ipython",
    "version": 3
   },
   "file_extension": ".py",
   "mimetype": "text/x-python",
   "name": "python",
   "nbconvert_exporter": "python",
   "pygments_lexer": "ipython3",
   "version": "3.8.3"
  }
 },
 "nbformat": 4,
 "nbformat_minor": 5
}
