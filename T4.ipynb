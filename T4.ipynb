{
 "cells": [
  {
   "cell_type": "code",
   "execution_count": 1,
   "id": "1c0d6d6d",
   "metadata": {},
   "outputs": [],
   "source": [
    "import matplotlib.pyplot as plt\n",
    "import numpy as np\n",
    "import scipy.stats as sps\n",
    "import math"
   ]
  },
  {
   "cell_type": "code",
   "execution_count": 12,
   "id": "dd58650d",
   "metadata": {},
   "outputs": [],
   "source": [
    "n = 100\n",
    "teta = 5\n",
    "eps = 0.025"
   ]
  },
  {
   "cell_type": "code",
   "execution_count": 29,
   "id": "5dfd75fd",
   "metadata": {},
   "outputs": [],
   "source": [
    "x = np.random.uniform(teta,2*teta,n)\n",
    "x = x.round(2)"
   ]
  },
  {
   "cell_type": "markdown",
   "id": "de6b3dd8",
   "metadata": {},
   "source": [
    " # Доверительные интервалы "
   ]
  },
  {
   "cell_type": "markdown",
   "id": "07770b48",
   "metadata": {},
   "source": [
    "### Точный"
   ]
  },
  {
   "cell_type": "code",
   "execution_count": 30,
   "id": "9a4c8674",
   "metadata": {},
   "outputs": [],
   "source": [
    "b1_acc, b2_acc =  x.max()/(1 + (1-eps)**(1/n)), x.max()/(1+eps**(1/n))"
   ]
  },
  {
   "cell_type": "code",
   "execution_count": 31,
   "id": "85abe8e6",
   "metadata": {},
   "outputs": [
    {
     "data": {
      "text/plain": [
       "(4.980630413415442, 5.071842683812156)"
      ]
     },
     "execution_count": 31,
     "metadata": {},
     "output_type": "execute_result"
    }
   ],
   "source": [
    "b1_acc, b2_acc"
   ]
  },
  {
   "cell_type": "markdown",
   "id": "ea8428a8",
   "metadata": {},
   "source": [
    "### Асиптотический ОММ"
   ]
  },
  {
   "cell_type": "code",
   "execution_count": 87,
   "id": "f76a82fd",
   "metadata": {},
   "outputs": [],
   "source": [
    "b1_as_omm, b2_as_omm = 2/3*x.mean() - 1.3*((x**2).mean() - x.mean()**2)**(0.5)/(n**0.5), 2/3*x.mean() + 1.3*((x**2).mean() - x.mean()**2)**(0.5)/(n**0.5)"
   ]
  },
  {
   "cell_type": "code",
   "execution_count": 88,
   "id": "78bc4262",
   "metadata": {},
   "outputs": [
    {
     "data": {
      "text/plain": [
       "(4.700346709685375, 5.068186623647957)"
      ]
     },
     "execution_count": 88,
     "metadata": {},
     "output_type": "execute_result"
    }
   ],
   "source": [
    "b1_as_omm, b2_as_omm "
   ]
  },
  {
   "cell_type": "markdown",
   "id": "8e420e39",
   "metadata": {},
   "source": [
    "### Асимптотический ОМП"
   ]
  },
  {
   "cell_type": "code",
   "execution_count": 35,
   "id": "9bb60675",
   "metadata": {},
   "outputs": [],
   "source": [
    "b1_as_omp, b2_as_omp = 2/3*x.mean()*(1-1.96/(n**0.5)), 2/3*x.mean()*(1+1.96/(n**0.5))"
   ]
  },
  {
   "cell_type": "code",
   "execution_count": 36,
   "id": "c90816b2",
   "metadata": {},
   "outputs": [
    {
     "data": {
      "text/plain": [
       "(3.9269504, 5.841582933333332)"
      ]
     },
     "execution_count": 36,
     "metadata": {},
     "output_type": "execute_result"
    }
   ],
   "source": [
    "b1_as_omp, b2_as_omp "
   ]
  },
  {
   "cell_type": "markdown",
   "id": "2fe037cf",
   "metadata": {},
   "source": [
    "### Bootstrap"
   ]
  },
  {
   "cell_type": "code",
   "execution_count": 63,
   "id": "ddd6e24c",
   "metadata": {},
   "outputs": [],
   "source": [
    "delta = np.array([])\n",
    "teta_ = 2/3*x.mean()\n",
    "for i in range(0,1000):\n",
    "    bootstrap = np.random.choice(x, size=x.shape[0]).round(2) \n",
    "    delta = np.append(delta, 2/3*bootstrap.mean() - teta_)"
   ]
  },
  {
   "cell_type": "code",
   "execution_count": 74,
   "id": "44a224ff",
   "metadata": {},
   "outputs": [],
   "source": [
    "delta.sort() \n",
    "b1_b, b2_b = teta_ - delta[974], teta_ - delta[24]"
   ]
  },
  {
   "cell_type": "code",
   "execution_count": 75,
   "id": "8f6b2799",
   "metadata": {},
   "outputs": [
    {
     "data": {
      "text/plain": [
       "(4.676199999999998, 5.074266666666665)"
      ]
     },
     "execution_count": 75,
     "metadata": {},
     "output_type": "execute_result"
    }
   ],
   "source": [
    "b1_b, b2_b "
   ]
  },
  {
   "cell_type": "code",
   "execution_count": 89,
   "id": "92298d77",
   "metadata": {},
   "outputs": [
    {
     "data": {
      "text/plain": [
       "<matplotlib.legend.Legend at 0x16dd2332df0>"
      ]
     },
     "execution_count": 89,
     "metadata": {},
     "output_type": "execute_result"
    },
    {
     "data": {
      "image/png": "[encoded data removed]",
      "text/plain": [
       "<Figure size 800x500 with 1 Axes>"
      ]
     },
     "metadata": {},
     "output_type": "display_data"
    }
   ],
   "source": [
    "fig, ax = plt.subplots(figsize=(8,5))\n",
    "\n",
    "ax.plot([b1_b, b2_b], [2, 2], label = 'Bootstrap')\n",
    "ax.plot([b1_as_omp, b2_as_omp], [1, 1], label = 'Asympt OPM')\n",
    "ax.plot([b1_as_omm, b2_as_omm], [0, 0], label = 'Asymp OMM')\n",
    "ax.plot([b1_acc, b2_acc], [3, 3], label = 'Exact')\n",
    "ax.plot([teta, teta], [0,3], label = 'Real teta')\n",
    "\n",
    "ax.set_title('Intervals')    \n",
    "\n",
    "ax.set_xlabel('theta interval')\n",
    "\n",
    "ax.legend(loc = 'best')"
   ]
  },
  {
   "cell_type": "code",
   "execution_count": null,
   "id": "ab4d0c1d",
   "metadata": {},
   "outputs": [],
   "source": []
  }
 ],
 "metadata": {
  "kernelspec": {
   "display_name": "Python 3 (ipykernel)",
   "language": "python",
   "name": "python3"
  },
  "language_info": {
   "codemirror_mode": {
    "name": "ipython",
    "version": 3
   },
   "file_extension": ".py",
   "mimetype": "text/x-python",
   "name": "python",
   "nbconvert_exporter": "python",
   "pygments_lexer": "ipython3",
   "version": "3.8.3"
  }
 },
 "nbformat": 4,
 "nbformat_minor": 5
}
