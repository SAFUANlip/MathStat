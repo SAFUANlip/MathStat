{
 "cells": [
  {
   "cell_type": "code",
   "execution_count": 140,
   "id": "ba6ab643",
   "metadata": {},
   "outputs": [],
   "source": [
    "import matplotlib.pyplot as plt\n",
    "import numpy as np\n",
    "import scipy.stats as sps\n",
    "from scipy import stats\n",
    "import math \n",
    "import statistics \n",
    "from scipy.integrate import quad\n",
    "from sklearn import preprocessing\n",
    "import seaborn as sns\n",
    "from scipy.stats import chi2"
   ]
  },
  {
   "cell_type": "code",
   "execution_count": 2,
   "id": "1582a97d",
   "metadata": {},
   "outputs": [],
   "source": [
    "x = np.array([5,8,6,12,14,18,11,6,13,7])\n",
    "N = 100\n",
    "#x_arr = np.array([[i]*x[i] for i in range(0, 10)])"
   ]
  },
  {
   "cell_type": "code",
   "execution_count": 3,
   "id": "845e1a39",
   "metadata": {},
   "outputs": [],
   "source": [
    "#x_arr"
   ]
  },
  {
   "cell_type": "code",
   "execution_count": 4,
   "id": "1af9f779",
   "metadata": {},
   "outputs": [],
   "source": [
    "x_arr = np.array([0, 0, 0, 0, 0, 1, 1, 1, 1, 1, 1, 1, 1, 2, 2, 2, 2, 2, 2, 3, 3, 3, 3, 3, 3, 3, 3, 3, 3, 3, 3, \n",
    "                 4, 4, 4, 4, 4, 4, 4, 4, 4, 4, 4, 4, 4, 4, 5, 5, 5, 5, 5, 5, 5, 5, 5, 5, 5, 5, 5, 5, 5, 5, 5, 5,\n",
    "                 6, 6, 6, 6, 6, 6, 6, 6, 6, 6, 6, 7, 7, 7, 7, 7, 7,\n",
    "                 8, 8, 8, 8, 8, 8, 8, 8, 8, 8, 8, 8, 8, 9, 9, 9, 9, 9, 9, 9])"
   ]
  },
  {
   "cell_type": "markdown",
   "id": "f7f9a206",
   "metadata": {},
   "source": [
    "## a"
   ]
  },
  {
   "cell_type": "code",
   "execution_count": 38,
   "id": "ab7185fd",
   "metadata": {},
   "outputs": [
    {
     "data": {
      "image/png": "[encoded data removed]",
      "text/plain": [
       "<Figure size 640x480 with 1 Axes>"
      ]
     },
     "metadata": {},
     "output_type": "display_data"
    }
   ],
   "source": [
    "def plot_ecdf(values, xlim):\n",
    "    \"\"\"Построить график ЭФР.\"\"\"\n",
    "    X_ = sorted(set(values))\n",
    "    Y_ = [np.mean(values < x) for x in X_]\n",
    "    X = sum([[v, v] for v in X_], [])\n",
    "    Y = sum([[v, v] for v in Y_], [])\n",
    "    Y = Y[1:]+[1]\n",
    "    plt.plot(X, Y)\n",
    "    return Y\n",
    "\n",
    "# Генерируем данные  и строим ЭФР\n",
    "Y_ecdf = plot_ecdf(x_arr, [0, 9])\n",
    "\n",
    "# Строим ФР\n",
    "X = np.arange(0, 10)\n",
    "Y = stats.uniform.cdf(X, loc = 0, scale = 9)\n",
    "plt.plot(X, Y, '--', color='k', label='ФР')\n",
    "\n",
    "plt.title('ФР и ЭФР стандартного равномерного распределения')\n",
    "plt.legend()\n",
    "plt.show()"
   ]
  },
  {
   "cell_type": "code",
   "execution_count": 39,
   "id": "451d5eae",
   "metadata": {},
   "outputs": [
    {
     "data": {
      "text/plain": [
       "1.4333333333333331"
      ]
     },
     "execution_count": 39,
     "metadata": {},
     "output_type": "execute_result"
    }
   ],
   "source": [
    "delta_ = max(abs(Y.repeat(2)-Y_ecdf))*100**0.5\n",
    "delta_ "
   ]
  },
  {
   "cell_type": "code",
   "execution_count": 7,
   "id": "e3022528",
   "metadata": {},
   "outputs": [
    {
     "name": "stdout",
     "output_type": "stream",
     "text": [
      "p_value = 0.032852176636945195\n"
     ]
    }
   ],
   "source": [
    "p_value = 0\n",
    "for i in range(1,1000):\n",
    "    p_value += -2*(-1**i)*np.exp(-2*i**2*delta_**2)\n",
    "print(f\"p_value = {p_value}\")"
   ]
  },
  {
   "cell_type": "markdown",
   "id": "2a48924d",
   "metadata": {},
   "source": [
    "## b"
   ]
  },
  {
   "cell_type": "code",
   "execution_count": 8,
   "id": "24c12316",
   "metadata": {},
   "outputs": [],
   "source": [
    "limits = np.array(-np.inf)\n",
    "limits = np.append(limits, np.arange(0.5, 9, 1))\n",
    "limits = np.append(limits, np.inf)"
   ]
  },
  {
   "cell_type": "code",
   "execution_count": 9,
   "id": "bfa346ab",
   "metadata": {},
   "outputs": [],
   "source": [
    "def integrand(x, sigma, m):\n",
    "    return 1/np.sqrt(2*np.pi*sigma**2)*np.exp(-(x-m)**2/(2*sigma**2)) #a*x**2 + b\n",
    "#I = quad(integrand, 0, 1, args=(a,b))"
   ]
  },
  {
   "cell_type": "code",
   "execution_count": 16,
   "id": "19025095",
   "metadata": {},
   "outputs": [],
   "source": [
    "def best_param(x):\n",
    "    maxim = 0 \n",
    "    sigma_ = 0\n",
    "    m_ = 0\n",
    "    for sigma in np.arange(2, 3, 0.1):\n",
    "        for m in np.arange(3, 5, 0.1):\n",
    "            L = 1 \n",
    "            for i in range(0, len(limits)-1, ):\n",
    "                L *= quad(integrand, limits[i], limits[i+1], args = (sigma, m))[0]**x[i]\n",
    "            if (L > maxim):\n",
    "                maxim, sigma_, m_ = L, sigma, m\n",
    "    return sigma_, m_"
   ]
  },
  {
   "cell_type": "code",
   "execution_count": 55,
   "id": "e6528d1a",
   "metadata": {},
   "outputs": [
    {
     "name": "stdout",
     "output_type": "stream",
     "text": [
      "2.7000000000000006 4.800000000000002\n"
     ]
    }
   ],
   "source": [
    "sigma_, m_ = best_param(x)\n",
    "print(sigma_, m_)        "
   ]
  },
  {
   "cell_type": "code",
   "execution_count": 101,
   "id": "9955281d",
   "metadata": {},
   "outputs": [],
   "source": [
    "probabilities = np.array([quad(integrand, limits[i], limits[i+1], args = (sigma_, m_))[0] for i in range(0, len(limits)-1)])"
   ]
  },
  {
   "cell_type": "code",
   "execution_count": 102,
   "id": "b7c5ec38",
   "metadata": {},
   "outputs": [
    {
     "data": {
      "text/plain": [
       "array([0.05562581, 0.05518599, 0.08633636, 0.11793901, 0.14067695,\n",
       "       0.14651828, 0.13324914, 0.10581321, 0.0733696 , 0.08528566])"
      ]
     },
     "execution_count": 102,
     "metadata": {},
     "output_type": "execute_result"
    }
   ],
   "source": [
    "probabilities "
   ]
  },
  {
   "cell_type": "code",
   "execution_count": 103,
   "id": "b8d605af",
   "metadata": {},
   "outputs": [],
   "source": [
    "delta_b = 0\n",
    "for i in range(len(x)):\n",
    "    delta_b += (x[i]-N*probabilities[i])**2/(N*probabilities[i])"
   ]
  },
  {
   "cell_type": "code",
   "execution_count": 104,
   "id": "dda4c0e6",
   "metadata": {},
   "outputs": [
    {
     "name": "stdout",
     "output_type": "stream",
     "text": [
      "delta in X^2 = 9.779231990914937\n"
     ]
    }
   ],
   "source": [
    "print(f\"delta in X^2 = {delta_b}\")"
   ]
  },
  {
   "cell_type": "markdown",
   "id": "67fc44c3",
   "metadata": {},
   "source": [
    "## b Kolmogorov"
   ]
  },
  {
   "cell_type": "code",
   "execution_count": 60,
   "id": "28257d7c",
   "metadata": {},
   "outputs": [],
   "source": [
    "arr_f = np.array([])\n",
    "for i in range(0,10):\n",
    "    arr_f =  np.append(arr_f, quad(integrand, -np.inf, i, args = (sigma_, m_))[0])"
   ]
  },
  {
   "cell_type": "code",
   "execution_count": 61,
   "id": "fe28dacc",
   "metadata": {},
   "outputs": [
    {
     "name": "stdout",
     "output_type": "stream",
     "text": [
      "basic delta in Kolmogorov = 1.0047572223260304\n"
     ]
    }
   ],
   "source": [
    "delta_b_kol = max(abs(arr_f.repeat(2) - Y_ecdf))*np.sqrt(N)\n",
    "print(f\"basic delta in Kolmogorov = {delta_b_kol}\")"
   ]
  },
  {
   "cell_type": "code",
   "execution_count": 62,
   "id": "ba73e9c7",
   "metadata": {},
   "outputs": [
    {
     "data": {
      "image/png": "[encoded data removed]",
      "text/plain": [
       "<Figure size 640x480 with 1 Axes>"
      ]
     },
     "metadata": {},
     "output_type": "display_data"
    }
   ],
   "source": [
    "plot_ecdf(x_arr,[0,9])\n",
    "plt.plot(np.arange(0,10), arr_f)\n",
    "plt.title('ФР и ЭФР стандартного Нормального распределения')\n",
    "plt.show() "
   ]
  },
  {
   "cell_type": "code",
   "execution_count": 65,
   "id": "313143c6",
   "metadata": {},
   "outputs": [
    {
     "name": "stdout",
     "output_type": "stream",
     "text": [
      "0\n",
      "1000\n",
      "2000\n",
      "3000\n",
      "4000\n",
      "5000\n",
      "6000\n",
      "7000\n",
      "8000\n",
      "9000\n",
      "CPU times: total: 53min 28s\n",
      "Wall time: 53min 30s\n"
     ]
    }
   ],
   "source": [
    "%%time\n",
    "\n",
    "delta_arr = np.array([])\n",
    "for i in range(0, 10000):\n",
    "    if not i%1000:\n",
    "        print(i)\n",
    "    bootstrap = np.sort(np.random.choice(x_arr, size = N))\n",
    "    count = np.array([])\n",
    "    for i in [0,1,2,3,4,5,6,7,8,9]: # there may not be a number in bootstrap\n",
    "        count = np.append(count, sum(bootstrap == i)) \n",
    "    sigma_i, m_i = best_param(count)\n",
    "    arr_f = np.array([])\n",
    "    for j in range(0,10):\n",
    "        arr_f =  np.append(arr_f, quad(integrand, -np.inf, j, args = (sigma_i, m_i))[0])\n",
    "    delta_arr = np.append(delta_arr, max(abs(arr_f.repeat(2) - Y_ecdf))*np.sqrt(N))"
   ]
  },
  {
   "cell_type": "code",
   "execution_count": 67,
   "id": "5475a025",
   "metadata": {},
   "outputs": [],
   "source": [
    "delta_arr.sort()  "
   ]
  },
  {
   "cell_type": "code",
   "execution_count": 85,
   "id": "8c5e5618",
   "metadata": {},
   "outputs": [
    {
     "name": "stdout",
     "output_type": "stream",
     "text": [
      "p_value by Kolmogorov and parametric_bootstrap = 0.8602\n"
     ]
    }
   ],
   "source": [
    "k_ = sum(delta_arr < delta_b_kol)\n",
    "k_ += 1\n",
    "\n",
    "p_value_b_kol = 1 - (k_ - 1)/10000\n",
    "print(f\"p_value by Kolmogorov and parametric_bootstrap = {p_value_b_kol}\")"
   ]
  },
  {
   "cell_type": "markdown",
   "id": "b1f9eaff",
   "metadata": {},
   "source": [
    "## Значит нет оснований отвергнуть основную гипотезу о согласии данных с законом нормального распределения"
   ]
  },
  {
   "cell_type": "markdown",
   "id": "182e2b8b",
   "metadata": {},
   "source": [
    "## c "
   ]
  },
  {
   "cell_type": "code",
   "execution_count": 142,
   "id": "fef07f88",
   "metadata": {},
   "outputs": [],
   "source": [
    "a1 = np.mean(x_arr)\n",
    "a2 = np.mean(x_arr**2) \n",
    "m_c = a1\n",
    "sigma_c = (a2 - a1**2)**0.5"
   ]
  },
  {
   "cell_type": "code",
   "execution_count": 143,
   "id": "cb9ebb31",
   "metadata": {},
   "outputs": [],
   "source": [
    "probabilities_c = np.array([quad(integrand, limits[i], limits[i+1], args = (sigma_c, m_c))[0] for i in range(0, len(limits)-1)])"
   ]
  },
  {
   "cell_type": "code",
   "execution_count": 144,
   "id": "b3f4ebaa",
   "metadata": {},
   "outputs": [],
   "source": [
    "delta_c = 0\n",
    "for i in range(len(x)):\n",
    "    delta_c += (x[i] - probabilities_c[i]*100)**2/(100*probabilities_c[i])"
   ]
  },
  {
   "cell_type": "code",
   "execution_count": 145,
   "id": "daf80d22",
   "metadata": {},
   "outputs": [
    {
     "data": {
      "text/plain": [
       "10.79897314050092"
      ]
     },
     "execution_count": 145,
     "metadata": {},
     "output_type": "execute_result"
    }
   ],
   "source": [
    "delta_c"
   ]
  },
  {
   "cell_type": "code",
   "execution_count": 131,
   "id": "32842f30",
   "metadata": {},
   "outputs": [],
   "source": [
    "delta_arr_c = np.array([])\n",
    "\n",
    "for i in range(0, 50000):\n",
    "    bootstrap = np.sort(np.random.choice(x_arr, size = N))\n",
    "    count = np.array([])\n",
    "    for i in [0,1,2,3,4,5,6,7,8,9]: # there may not be a number in bootstrap\n",
    "        count = np.append(count, sum(bootstrap == i)) \n",
    "        \n",
    "    delta_i = 0\n",
    "    m_i = np.mean(bootstrap)\n",
    "    sigma_i = (np.mean(bootstrap**2) - m_i**2)**0.5\n",
    "    \n",
    "    probabilities_i = np.array([quad(integrand, limits[i], limits[i+1], args = (sigma_i, m_i))[0] for i in range(0, len(limits)-1)])\n",
    "    for j in range(0,10):\n",
    "        delta_i +=  (count[i] - probabilities_i[j]*100)**2/(100*probabilities_i[j])\n",
    "    delta_arr_c = np.append(delta_arr_c, delta_i)"
   ]
  },
  {
   "cell_type": "code",
   "execution_count": 134,
   "id": "56045388",
   "metadata": {},
   "outputs": [],
   "source": [
    "delta_arr_c.sort()"
   ]
  },
  {
   "cell_type": "code",
   "execution_count": 138,
   "id": "85d56a29",
   "metadata": {},
   "outputs": [
    {
     "name": "stdout",
     "output_type": "stream",
     "text": [
      "p_value and parametric_bootstrap = 0.98102\n"
     ]
    }
   ],
   "source": [
    "k_c = sum(delta_arr_c < delta_c)\n",
    "k_c += 1\n",
    "\n",
    "p_value_c = 1 - (k_c - 1)/50000\n",
    "print(f\"p_value and parametric_bootstrap = {p_value_c}\")"
   ]
  },
  {
   "cell_type": "code",
   "execution_count": 186,
   "id": "a11c4f6a",
   "metadata": {},
   "outputs": [
    {
     "data": {
      "text/plain": [
       "(4.77, 2.5054141374231933)"
      ]
     },
     "execution_count": 186,
     "metadata": {},
     "output_type": "execute_result"
    }
   ],
   "source": [
    "m_c, sigma_c"
   ]
  },
  {
   "cell_type": "markdown",
   "id": "e88b1f6f",
   "metadata": {},
   "source": [
    "## Значит нет оснований отвергнуть основную гипотезу о согласии данных с законом нормального распределения (параметры распределения получены методом моментов)"
   ]
  },
  {
   "cell_type": "markdown",
   "id": "9bfc7cab",
   "metadata": {},
   "source": [
    "## Сравнение\n",
    "$$\n",
    "\\chi^2(k-1)\\\\\n",
    "\\chi^2(k-3)\\\\\n",
    "N(4.77,\\; 2.5^2)\\\\\n",
    "$$"
   ]
  },
  {
   "cell_type": "code",
   "execution_count": 167,
   "id": "fd316d69",
   "metadata": {},
   "outputs": [],
   "source": [
    "def integrand_Xi(x, k):\n",
    "    return (x**(k/2-1))*np.exp(-x/2)/(2**(k/2)*math.gamma(k/2))"
   ]
  },
  {
   "cell_type": "code",
   "execution_count": 175,
   "id": "670f6887",
   "metadata": {},
   "outputs": [],
   "source": [
    "arr_f_с = np.array([])\n",
    "arr_f_x9 = np.array([]) #(10-1)\n",
    "arr_f_x7 = np.array([]) #(10-3) k= 10\n",
    "for i in range(0,20):\n",
    "    arr_f_с =  np.append(arr_f_с, quad(integrand, -np.inf, i, args = (sigma_c, m_c))[0])\n",
    "    arr_f_x7 =  np.append(arr_f_x7, quad(integrand_Xi, 0, i, args = 7)[0])\n",
    "    arr_f_x9 =  np.append(arr_f_x9, quad(integrand_Xi, 0, i, args = 9)[0])"
   ]
  },
  {
   "cell_type": "code",
   "execution_count": 185,
   "id": "c5186278",
   "metadata": {},
   "outputs": [
    {
     "data": {
      "image/png": "[encoded data removed]",
      "text/plain": [
       "<Figure size 640x480 with 1 Axes>"
      ]
     },
     "metadata": {},
     "output_type": "display_data"
    }
   ],
   "source": [
    "plt.plot(np.arange(0,20), arr_f_с, label=\"normal\", color = 'red')\n",
    "plt.plot(np.arange(0,20), arr_f_x7, label = \"X^2 k = 7\", color = 'green')\n",
    "plt.plot(np.arange(0,20), arr_f_x9, label = \"X^2 k = 9\", color = \"blue\")\n",
    "plt.title(\"Сравнение рсапределений\")\n",
    "plt.legend()\n",
    "plt.show()"
   ]
  },
  {
   "cell_type": "code",
   "execution_count": null,
   "id": "58fec179",
   "metadata": {},
   "outputs": [],
   "source": []
  }
 ],
 "metadata": {
  "kernelspec": {
   "display_name": "Python 3 (ipykernel)",
   "language": "python",
   "name": "python3"
  },
  "language_info": {
   "codemirror_mode": {
    "name": "ipython",
    "version": 3
   },
   "file_extension": ".py",
   "mimetype": "text/x-python",
   "name": "python",
   "nbconvert_exporter": "python",
   "pygments_lexer": "ipython3",
   "version": "3.8.3"
  }
 },
 "nbformat": 4,
 "nbformat_minor": 5
}
