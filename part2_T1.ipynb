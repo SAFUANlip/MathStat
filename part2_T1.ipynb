{
 "cells": [
  {
   "cell_type": "code",
   "execution_count": 1,
   "id": "abab1475",
   "metadata": {},
   "outputs": [],
   "source": [
    "import matplotlib.pyplot as plt\n",
    "import numpy as np\n",
    "import scipy.stats as sps\n",
    "from scipy import stats\n",
    "import math \n",
    "import statistics \n",
    "from scipy.integrate import quad\n",
    "from sklearn import preprocessing\n",
    "import seaborn as sns\n",
    "from scipy.stats import chi2, t, f, norm"
   ]
  },
  {
   "cell_type": "code",
   "execution_count": 64,
   "id": "3bbd8bbc",
   "metadata": {},
   "outputs": [],
   "source": [
    "N = 50 # размерность выборки\n",
    "p = 6 # количество признаков, 5 исходных и один свободный член\n",
    "coef = np.array([3, -2, 1, 1, -1])"
   ]
  },
  {
   "cell_type": "code",
   "execution_count": 65,
   "id": "eacea4c5",
   "metadata": {},
   "outputs": [],
   "source": [
    "data = np.array([np.random.uniform(low = -1.0, high = 1.0, size = 5) for i in range(N)])"
   ]
  },
  {
   "cell_type": "code",
   "execution_count": 66,
   "id": "5ffc03b7",
   "metadata": {},
   "outputs": [],
   "source": [
    "target = np.array([np.random.normal(2 + np.sum(i * coef), 1.5) for i in data])"
   ]
  },
  {
   "cell_type": "markdown",
   "id": "aa850204",
   "metadata": {},
   "source": [
    "## a) Проверить $ \\xi_k $ на мультиколлинеарность "
   ]
  },
  {
   "cell_type": "code",
   "execution_count": 67,
   "id": "bce71ff7",
   "metadata": {},
   "outputs": [],
   "source": [
    "R_2_res = []\n",
    "for i in range(5):\n",
    "    psi = np.ones((N,1))\n",
    "    psi = np.hstack([psi, np.delete(data, i, 1)])\n",
    "    y = data[:,i]\n",
    "    F = psi.T @ psi\n",
    "    F_1 = np.linalg.inv(F)\n",
    "    beta = F_1@psi.T @ y\n",
    "    rss = (y-psi @ beta).T @ (y-psi @ beta)\n",
    "    tss = np.sum((y-y.mean())**2) \n",
    "    R_2_res.append(1-rss/tss)"
   ]
  },
  {
   "cell_type": "code",
   "execution_count": 68,
   "id": "07c84bfb",
   "metadata": {},
   "outputs": [
    {
     "data": {
      "text/plain": [
       "[0.06620133834872466,\n",
       " 0.060758699923755155,\n",
       " 0.05745572604990423,\n",
       " 0.01897619056198363,\n",
       " 0.025702846578887106]"
      ]
     },
     "execution_count": 68,
     "metadata": {},
     "output_type": "execute_result"
    }
   ],
   "source": [
    "R_2_res"
   ]
  },
  {
   "cell_type": "markdown",
   "id": "1f186b01",
   "metadata": {},
   "source": [
    "### четыре признака объясняют пятый не более чем на 70%, значит признаки не связаны"
   ]
  },
  {
   "cell_type": "markdown",
   "id": "7e62b765",
   "metadata": {},
   "source": [
    "## b) Определить уравнение линейной регрессии $\\eta=\\beta_0+\\sum_{k=1}^5\\beta_k\\xi_k$ и проверить значимость коэффициентов"
   ]
  },
  {
   "cell_type": "code",
   "execution_count": 69,
   "id": "d2ea81af",
   "metadata": {},
   "outputs": [],
   "source": [
    "psi = np.ones((N,1))\n",
    "psi = np.hstack([psi, data])\n",
    "\n",
    "F = psi.T @ psi\n",
    "F_1 = np.linalg.inv(F)\n",
    "beta = F_1@psi.T @ target\n",
    "rss = (target - psi @ beta).T @ (target-psi @ beta)\n",
    "tss = np.sum((target-target.mean())**2) "
   ]
  },
  {
   "cell_type": "code",
   "execution_count": 70,
   "id": "a7fefd46",
   "metadata": {},
   "outputs": [
    {
     "name": "stdout",
     "output_type": "stream",
     "text": [
      "1.76 + 2.87ξ1 + -2.22ξ2 + 1.23ξ3 + 1.64ξ4 + -1.12ξ5\n"
     ]
    }
   ],
   "source": [
    "print(f\"{beta[0]:.2f} + {beta[1]:.2f}ξ1 + {beta[2]:.2f}ξ2 + {beta[3]:.2f}ξ3 + {beta[4]:.2f}ξ4 + {beta[5]:.2f}ξ5\") "
   ]
  },
  {
   "cell_type": "markdown",
   "id": "6b6e4d0b",
   "metadata": {},
   "source": [
    "### Проверка значимости"
   ]
  },
  {
   "cell_type": "code",
   "execution_count": 72,
   "id": "b5e43ccb",
   "metadata": {},
   "outputs": [
    {
     "name": "stdout",
     "output_type": "stream",
     "text": [
      "p-value for feach 0: 1.151952121235405e-10\n",
      "p-value for feach 1: 9.050969408335592e-10\n",
      "p-value for feach 2: 1.2603629921155146e-07\n",
      "p-value for feach 3: 0.0018008887724981252\n",
      "p-value for feach 4: 4.3962313192120374e-05\n",
      "p-value for feach 5: 0.0011481076706751352\n"
     ]
    }
   ],
   "source": [
    "p_value_coef =  np.array([])\n",
    "for i in range(len(beta)):\n",
    "    delta = beta[i]/(np.sqrt(rss*F_1[i,i]))*np.sqrt(N-p)\n",
    "    p_value_coef = np.append(p_value_coef, 2*t.sf(abs(delta), N-p))\n",
    "    print(f\"p-value for feach {i}: {2*t.sf(abs(delta), N-p)}\") #t.sf = 1-t.cdf, t.cdf - функция распределения(даёт значение)"
   ]
  },
  {
   "cell_type": "markdown",
   "id": "7c1cd819",
   "metadata": {},
   "source": [
    "### Все меньше 0.05, значит отвергаем основную гипотезу о незначимости всех $\\beta_k$"
   ]
  },
  {
   "cell_type": "markdown",
   "id": "bee847bb",
   "metadata": {},
   "source": [
    "## с) определить коэффициент детерминации $R^2$ и проверить его значимость"
   ]
  },
  {
   "cell_type": "code",
   "execution_count": 73,
   "id": "1005f169",
   "metadata": {},
   "outputs": [
    {
     "name": "stdout",
     "output_type": "stream",
     "text": [
      "Коэффициент детерминации (доля дисперсии, объясняемая регрессией) 0.7689599986761178\n"
     ]
    }
   ],
   "source": [
    "R_2 = 1-rss/tss\n",
    "print(f\"Коэффициент детерминации (доля дисперсии, объясняемая регрессией) {R_2}\")"
   ]
  },
  {
   "cell_type": "markdown",
   "id": "eafeebd6",
   "metadata": {},
   "source": [
    "### проверка его значимости $p-value=P(\\Delta\\geq\\widetilde{\\Delta}) = 1 -F(x)$ "
   ]
  },
  {
   "cell_type": "code",
   "execution_count": 74,
   "id": "7472baad",
   "metadata": {},
   "outputs": [
    {
     "name": "stdout",
     "output_type": "stream",
     "text": [
      "p-value: 1.1323365856075185e-07\n"
     ]
    }
   ],
   "source": [
    "delta_R_2 = R_2**2/(1-R_2**2)*(N-p)/(p-1)\n",
    "print(f\"p-value: {1- f.cdf(abs(delta_R_2), p-1, N-p)}\")"
   ]
  },
  {
   "cell_type": "markdown",
   "id": "f0b6b634",
   "metadata": {},
   "source": [
    "### меньше 0.05, значит мы можем отвергнуть основную гипотезу о незначимости регрессии"
   ]
  },
  {
   "cell_type": "markdown",
   "id": "9027a602",
   "metadata": {},
   "source": [
    "## d) Найти значение в точке $x_k = 0$ и построить 95% доверительный интервал"
   ]
  },
  {
   "cell_type": "code",
   "execution_count": 75,
   "id": "1f5286fb",
   "metadata": {},
   "outputs": [],
   "source": [
    "psi_d = np.zeros_like(beta)\n",
    "psi_d[0] = 1"
   ]
  },
  {
   "cell_type": "code",
   "execution_count": 76,
   "id": "9c6dbfe0",
   "metadata": {},
   "outputs": [
    {
     "name": "stdout",
     "output_type": "stream",
     "text": [
      "прогноз используя нашу модель и нулевые значения признаков y_d: 1.7621820754240172\n"
     ]
    }
   ],
   "source": [
    "y_d = np.sum(psi_d*beta)\n",
    "print(f\"прогноз используя нашу модель и нулевые значения признаков y_d: {y_d}\")"
   ]
  },
  {
   "cell_type": "code",
   "execution_count": 77,
   "id": "3a59cf2f",
   "metadata": {},
   "outputs": [
    {
     "name": "stdout",
     "output_type": "stream",
     "text": [
      "2.0152\n",
      "2.0153\n",
      "2.0154\n",
      "2.0155\n"
     ]
    }
   ],
   "source": [
    "#поиск 97.5% процентиля\n",
    "for i in np.arange(2, 5, 0.0001):\n",
    "    if abs(t.cdf(i, N-p) - 0.975)< 0.00001:\n",
    "        print(f\"{i:.4f}\")"
   ]
  },
  {
   "cell_type": "code",
   "execution_count": 78,
   "id": "709fedea",
   "metadata": {},
   "outputs": [],
   "source": [
    "delta_d = 2.0154*np.sqrt(1+psi_d@F_1@psi_d.T)*np.sqrt(rss/(N-p)) "
   ]
  },
  {
   "cell_type": "code",
   "execution_count": 79,
   "id": "204266b9",
   "metadata": {},
   "outputs": [
    {
     "name": "stdout",
     "output_type": "stream",
     "text": [
      "Доверительный интервал: (-1.121, 4.646)\n"
     ]
    }
   ],
   "source": [
    "print(f\"Доверительный интервал: ({y_d-delta_d:.3f}, {y_d+delta_d:.3f})\")"
   ]
  },
  {
   "cell_type": "markdown",
   "id": "f8dac4b9",
   "metadata": {},
   "source": [
    "## e) проверить предположение о независимости ошибок измерения"
   ]
  },
  {
   "cell_type": "code",
   "execution_count": 80,
   "id": "44a8dca1",
   "metadata": {},
   "outputs": [],
   "source": [
    "error = target - psi@beta"
   ]
  },
  {
   "cell_type": "code",
   "execution_count": 81,
   "id": "1e04c5b9",
   "metadata": {},
   "outputs": [
    {
     "data": {
      "text/plain": [
       "644"
      ]
     },
     "execution_count": 81,
     "metadata": {},
     "output_type": "execute_result"
    }
   ],
   "source": [
    "I = 0\n",
    "for i in range(1, len(error)):\n",
    "    I += np.sum(error[i:] < error[i-1])\n",
    "I"
   ]
  },
  {
   "cell_type": "code",
   "execution_count": 82,
   "id": "3b796bb1",
   "metadata": {},
   "outputs": [],
   "source": [
    "delta_e = (I-N*(N-1)/4)/np.sqrt(N**3/36)"
   ]
  },
  {
   "cell_type": "code",
   "execution_count": 83,
   "id": "f8ce2e21",
   "metadata": {},
   "outputs": [
    {
     "name": "stdout",
     "output_type": "stream",
     "text": [
      "p-value: 0.5929453471554251\n"
     ]
    }
   ],
   "source": [
    "print(f\"p-value: {2*(norm.sf(abs(delta_e), 0, 1))}\")"
   ]
  },
  {
   "cell_type": "markdown",
   "id": "77880ff1",
   "metadata": {},
   "source": [
    "### Значение больше 0.05, значит нет оснований отвергнуть гипотезу о независимости ошибок "
   ]
  },
  {
   "cell_type": "markdown",
   "id": "998638bf",
   "metadata": {},
   "source": [
    "## f) проверить предположение о нормальности распределения ошибки  "
   ]
  },
  {
   "cell_type": "code",
   "execution_count": 84,
   "id": "f347016a",
   "metadata": {},
   "outputs": [],
   "source": [
    "def ecdf(values):\n",
    "    \"\"\"Построить график ЭФР.\"\"\"\n",
    "    X_ = sorted(set(values))\n",
    "    Y_ = [np.mean(values < x) for x in X_]\n",
    "    X = sum([[v, v] for v in X_], [])\n",
    "    Y = sum([[v, v] for v in Y_], [])\n",
    "    Y = Y[1:]+[1]\n",
    "    #plt.plot(X, Y)\n",
    "    return X, Y"
   ]
  },
  {
   "cell_type": "code",
   "execution_count": 85,
   "id": "6574d31b",
   "metadata": {},
   "outputs": [
    {
     "name": "stdout",
     "output_type": "stream",
     "text": [
      "sigma = 1.3276186497550269\n"
     ]
    }
   ],
   "source": [
    "#variance_est = 1/(N-1)*np.sum((error- np.mean(error))**2) \n",
    "sigma = np.sqrt(error.var())  #np.sqrt(variance_est)\n",
    "print(f\"sigma = {sigma}\")"
   ]
  },
  {
   "cell_type": "code",
   "execution_count": 86,
   "id": "7f5b3e3d",
   "metadata": {},
   "outputs": [],
   "source": [
    "X_ecdf, Y_ecdf = ecdf(error)\n",
    "Y_error = norm.cdf(np.sort(error), 0, sigma)\n",
    "delta_f = np.sqrt(N)*(np.max(abs(Y_error.repeat(2)-Y_ecdf)))"
   ]
  },
  {
   "cell_type": "code",
   "execution_count": 87,
   "id": "ed088ec5",
   "metadata": {},
   "outputs": [
    {
     "data": {
      "image/png": "[encoded data removed]",
      "text/plain": [
       "<Figure size 640x480 with 1 Axes>"
      ]
     },
     "metadata": {},
     "output_type": "display_data"
    }
   ],
   "source": [
    "#ЭФР\n",
    "plt.plot(np.linspace(min(error), max(error), N), Y_error)\n",
    "plt.plot(X_ecdf, Y_ecdf)\n",
    "plt.show()"
   ]
  },
  {
   "cell_type": "code",
   "execution_count": 88,
   "id": "2c63488e",
   "metadata": {},
   "outputs": [
    {
     "data": {
      "text/plain": [
       "0.4958115514170303"
      ]
     },
     "execution_count": 88,
     "metadata": {},
     "output_type": "execute_result"
    }
   ],
   "source": [
    "delta_f"
   ]
  },
  {
   "cell_type": "markdown",
   "id": "033a9698",
   "metadata": {},
   "source": [
    "### Parametric bootstrap"
   ]
  },
  {
   "cell_type": "code",
   "execution_count": 89,
   "id": "e1119a43",
   "metadata": {},
   "outputs": [],
   "source": [
    "delta_arr = np.array([])\n",
    "for i in range(10000):\n",
    "    error_i = np.random.normal(0, sigma, size = N)\n",
    "    m_i, sigma_i = error_i.mean(), error_i.var() \n",
    "    Y_error_i = norm.cdf(np.sort(error_i), m_i, sigma_i)\n",
    "    _, Y_ecdf_i = ecdf(error_i)\n",
    "    delta_i = np.sqrt(N)*(np.max(abs(Y_error_i.repeat(2)-Y_ecdf_i)))\n",
    "    delta_arr = np.append(delta_arr, delta_i)"
   ]
  },
  {
   "cell_type": "code",
   "execution_count": 90,
   "id": "ae4ca062",
   "metadata": {},
   "outputs": [],
   "source": [
    "delta_arr.sort()"
   ]
  },
  {
   "cell_type": "code",
   "execution_count": 91,
   "id": "a4ffaaba",
   "metadata": {},
   "outputs": [
    {
     "data": {
      "text/plain": [
       "array([0.31533543, 0.32625874, 0.33674557, ..., 1.5023691 , 1.51749204,\n",
       "       1.61452546])"
      ]
     },
     "execution_count": 91,
     "metadata": {},
     "output_type": "execute_result"
    }
   ],
   "source": [
    "delta_arr"
   ]
  },
  {
   "cell_type": "code",
   "execution_count": 92,
   "id": "f223f791",
   "metadata": {},
   "outputs": [
    {
     "name": "stdout",
     "output_type": "stream",
     "text": [
      "p_value by Kolmogorov and parametric_bootstrap = 0.973\n"
     ]
    }
   ],
   "source": [
    "k_ = sum(delta_arr < delta_f)\n",
    "k_ += 1\n",
    "\n",
    "p_value_f = 1 - (k_ - 1)/10000\n",
    "print(f\"p_value by Kolmogorov and parametric_bootstrap = {p_value_f}\")"
   ]
  },
  {
   "cell_type": "markdown",
   "id": "dce170c5",
   "metadata": {},
   "source": [
    "### Нет оснований отвергнуть гипотезу о нормальности распределения ошибки"
   ]
  },
  {
   "cell_type": "markdown",
   "id": "742fb30f",
   "metadata": {},
   "source": [
    "## g) исследовать регрессию на выбросы "
   ]
  },
  {
   "cell_type": "code",
   "execution_count": 93,
   "id": "73905243",
   "metadata": {},
   "outputs": [
    {
     "data": {
      "text/plain": [
       "1.3611020074393698"
      ]
     },
     "execution_count": 93,
     "metadata": {},
     "output_type": "execute_result"
    }
   ],
   "source": [
    "sigma_g = np.median(abs(error))/0.675\n",
    "sigma_g"
   ]
  },
  {
   "cell_type": "code",
   "execution_count": 94,
   "id": "bd3998dd",
   "metadata": {},
   "outputs": [],
   "source": [
    "row_del = []\n",
    "N_g = N\n",
    "for i,e in enumerate(error):\n",
    "    if e<=-2*sigma_g or e>=2*sigma_g:\n",
    "        N_g -=1\n",
    "        row_del.append(i)\n",
    "        print(i,e)"
   ]
  },
  {
   "cell_type": "code",
   "execution_count": 95,
   "id": "35b51938",
   "metadata": {},
   "outputs": [],
   "source": [
    "data_g = np.delete(data, (row_del), axis=0)\n",
    "target_g = np.delete(target, row_del)\n",
    "psi_g = np.ones((N_g,1))\n",
    "psi_g = np.hstack([psi_g, data_g])\n",
    "\n",
    "F_g = psi_g.T @ psi_g\n",
    "F_1_g = np.linalg.inv(F_g)\n",
    "beta_g = F_1_g@psi_g.T @ target_g\n",
    "rss_g = (target_g - psi_g @ beta_g).T @ (target_g-psi_g @ beta_g)\n",
    "tss_g = np.sum((target_g-target_g.mean())**2) "
   ]
  },
  {
   "cell_type": "code",
   "execution_count": 96,
   "id": "8467d888",
   "metadata": {},
   "outputs": [
    {
     "name": "stdout",
     "output_type": "stream",
     "text": [
      "R2 до удаления выбросов: 0.7689599986761178, после: 0.7689599986761178\n"
     ]
    }
   ],
   "source": [
    "R_2_g = 1-rss_g/tss_g \n",
    "print(f\"R2 до удаления выбросов: {R_2}, после: {R_2_g}\")"
   ]
  },
  {
   "cell_type": "markdown",
   "id": "a362e73b",
   "metadata": {},
   "source": [
    "## h) провести кросс-проверку регрессии"
   ]
  },
  {
   "cell_type": "code",
   "execution_count": 97,
   "id": "3eee0716",
   "metadata": {},
   "outputs": [],
   "source": [
    "CV_array = np.array([])\n",
    "for i in range(N):\n",
    "    data_h = np.delete(data, i, axis=0)\n",
    "    target_h = np.delete(target, i)\n",
    "    psi_h = np.ones((N-1, 1))\n",
    "    psi_h = np.hstack([psi_h, data_h])\n",
    "    \n",
    "    F_h = psi_h.T @ psi_h\n",
    "    F_1_h = np.linalg.inv(F_h)\n",
    "    beta_h = F_1_h @ psi_h.T @ target_h\n",
    "    CV_array = np.append(CV_array, (np.insert(data[i], 0, 1)@beta_h - target[i])**2)"
   ]
  },
  {
   "cell_type": "code",
   "execution_count": 98,
   "id": "dc2b91ec",
   "metadata": {},
   "outputs": [],
   "source": [
    "R_cv = 1- np.sum(CV_array)/tss"
   ]
  },
  {
   "cell_type": "code",
   "execution_count": 99,
   "id": "b84a11a9",
   "metadata": {},
   "outputs": [
    {
     "data": {
      "text/plain": [
       "0.6911524303614199"
      ]
     },
     "execution_count": 99,
     "metadata": {},
     "output_type": "execute_result"
    }
   ],
   "source": [
    "R_cv"
   ]
  },
  {
   "cell_type": "markdown",
   "id": "2f486fb9",
   "metadata": {},
   "source": [
    "### Качество прогноза немного уменьшилось "
   ]
  },
  {
   "cell_type": "markdown",
   "id": "25cef4f9",
   "metadata": {},
   "source": [
    "## i) Проверить адекватность регрессии, сделав 5 повторных измерений в одной точке"
   ]
  },
  {
   "cell_type": "code",
   "execution_count": 100,
   "id": "14050a93",
   "metadata": {},
   "outputs": [],
   "source": [
    "# let's fix ξ = 1\n",
    "k = 5\n",
    "teta_arr = np.array([])\n",
    "for i in range(k):\n",
    "    teta_arr = np.append(teta_arr, np.random.normal(2+np.sum(coef*1), 1.5))\n",
    "variance_5 = 1/(k-1)*np.sum((teta_arr - np.mean(teta_arr))**2)\n",
    "delta_5 = rss/((N-p)*variance_5)"
   ]
  },
  {
   "cell_type": "code",
   "execution_count": 101,
   "id": "e8066f0b",
   "metadata": {},
   "outputs": [],
   "source": [
    "p_value_5 = f.sf(delta_5, N-p, k-1)"
   ]
  },
  {
   "cell_type": "code",
   "execution_count": 102,
   "id": "fc21d0f9",
   "metadata": {},
   "outputs": [
    {
     "name": "stdout",
     "output_type": "stream",
     "text": [
      "p_value: 0.458867159487151\n"
     ]
    }
   ],
   "source": [
    "print(f\"p_value: {p_value_5}\")"
   ]
  },
  {
   "cell_type": "markdown",
   "id": "55db30f0",
   "metadata": {},
   "source": [
    "### больше 0.05, значит нет оснований отвергнуть гипотезу $H_0$ о равенстве дисперсий"
   ]
  },
  {
   "cell_type": "markdown",
   "id": "598e3d27",
   "metadata": {},
   "source": [
    "## j) удалить переменную, соответствующую наименеезначимому коэффициенту и повторить пункты b и c"
   ]
  },
  {
   "cell_type": "code",
   "execution_count": 103,
   "id": "b31bdbf0",
   "metadata": {},
   "outputs": [
    {
     "data": {
      "text/plain": [
       "3"
      ]
     },
     "execution_count": 103,
     "metadata": {},
     "output_type": "execute_result"
    }
   ],
   "source": [
    "p_value_coef.argmax() # наименее значимый коэффициент"
   ]
  },
  {
   "cell_type": "code",
   "execution_count": 104,
   "id": "949fcff7",
   "metadata": {},
   "outputs": [],
   "source": [
    "data_j = np.delete(data, p_value_coef.argmax(), axis=1)"
   ]
  },
  {
   "cell_type": "code",
   "execution_count": 105,
   "id": "13d510d4",
   "metadata": {},
   "outputs": [],
   "source": [
    "psi_j = np.ones((N,1))\n",
    "psi_j = np.hstack([psi_j, data_j])\n",
    "\n",
    "F_j = psi_j.T @ psi_j\n",
    "F_1_j = np.linalg.inv(F_j)\n",
    "beta_j = F_1_j@psi_j.T @ target\n",
    "rss_j = (target - psi_j @ beta_j).T @ (target - psi_j @ beta_j)\n",
    "tss_j = np.sum((target - target.mean())**2) "
   ]
  },
  {
   "cell_type": "code",
   "execution_count": 106,
   "id": "ab9268d1",
   "metadata": {},
   "outputs": [
    {
     "name": "stdout",
     "output_type": "stream",
     "text": [
      "1.83 + 2.83ξ1 + -2.05ξ2 + 1.29ξ4 + -1.18ξ5\n"
     ]
    }
   ],
   "source": [
    "print(f\"{beta_j[0]:.2f} + {beta_j[1]:.2f}ξ1 + {beta_j[2]:.2f}ξ2 + {beta_j[3]:.2f}ξ4 + {beta_j[4]:.2f}ξ5\") "
   ]
  },
  {
   "cell_type": "markdown",
   "id": "b35b75e1",
   "metadata": {},
   "source": [
    "### Проверка значимости"
   ]
  },
  {
   "cell_type": "code",
   "execution_count": 107,
   "id": "0259894f",
   "metadata": {},
   "outputs": [
    {
     "name": "stdout",
     "output_type": "stream",
     "text": [
      "p-value for feach 0: 5.641546604800948e-09\n",
      "p-value for feach 1: 1.1865705445993821e-07\n",
      "p-value for feach 2: 1.6921746627227525e-05\n",
      "p-value for feach 3: 0.0059335627833040205\n",
      "p-value for feach 4: 0.0041683374283028\n"
     ]
    }
   ],
   "source": [
    "p_value_coef_j =  np.array([])\n",
    "for i in range(len(beta_j)):\n",
    "    delta_j = beta_j[i]/(np.sqrt(rss_j*F_1_j[i,i]))*np.sqrt(N-p)\n",
    "    p_value_coef_j = np.append(p_value_coef_j, 2*t.sf(abs(delta_j), N-p))\n",
    "    print(f\"p-value for feach {i}: {2*t.sf(abs(delta_j), N-p)}\") #t.sf = 1-t.cdf, t.cdf - функция распределения(даёт значение)"
   ]
  },
  {
   "cell_type": "code",
   "execution_count": 108,
   "id": "3162cdfe",
   "metadata": {},
   "outputs": [
    {
     "name": "stdout",
     "output_type": "stream",
     "text": [
      "коэффициент детерминации, после удаления наименее значимого коэффициента 0.6609482685076776\n"
     ]
    }
   ],
   "source": [
    "print(f\"коэффициент детерминации, после удаления наименее значимого коэффициента {(tss_j-rss_j)/tss_j}\")"
   ]
  },
  {
   "cell_type": "markdown",
   "id": "17c5029c",
   "metadata": {},
   "source": [
    "## k) Сравнить уравнение регрессии бутстрапом\n",
    "## $H_0:$ 4 признака и свободный член, $H_1:$ 5 признаков и свободный член"
   ]
  },
  {
   "cell_type": "code",
   "execution_count": 113,
   "id": "0233a4ad",
   "metadata": {},
   "outputs": [],
   "source": [
    "delta_k = (rss_j - rss)/rss*(N - p)/(p - (p-1)) #исходная дельта "
   ]
  },
  {
   "cell_type": "code",
   "execution_count": 156,
   "id": "efea87f3",
   "metadata": {},
   "outputs": [],
   "source": [
    "def get_bootstrap_samples(data, target, n_samples):\n",
    "    indices = np.random.randint(0, len(data), (n_samples, len(data)))\n",
    "    return data[indices], target[indices]"
   ]
  },
  {
   "cell_type": "code",
   "execution_count": 163,
   "id": "41e432f8",
   "metadata": {},
   "outputs": [],
   "source": [
    "delta_k_arr = np.array([])\n",
    "\n",
    "for i in range(1000):\n",
    "    data_k, target_k = get_bootstrap_samples(data, target, 1)\n",
    "    data_k, target_k = data_k[0], target_k[0]\n",
    "    data_k_5 = np.delete(data_k, p_value_coef.argmax(), axis=1)\n",
    "    \n",
    "    psi_k = np.ones((N,1))\n",
    "    psi_k_5 = np.hstack([psi_k, data_k_5]) # Тут 4 признака и свободный член\n",
    "    psi_k = np.hstack([psi_k, data_k]) # Тут 5 признаков и свободный член\n",
    "    \n",
    "    rss_k = (target_k - psi_k @ beta).T @ (target_k - psi_k @ beta)\n",
    "    rss_k_5 = (target_k - psi_k_5 @ beta_j).T @ (target_k - psi_k_5 @ beta_j)\n",
    "    \n",
    "    delta_k_arr = np.append(delta_k_arr, (rss_k_5 - rss_k)/rss_k*(N - p)/(p - (p-1)))\n",
    "\n",
    "    "
   ]
  },
  {
   "cell_type": "code",
   "execution_count": 169,
   "id": "e4f46e57",
   "metadata": {},
   "outputs": [],
   "source": [
    "delta_k_arr.sort()"
   ]
  },
  {
   "cell_type": "code",
   "execution_count": 174,
   "id": "aa42cb32",
   "metadata": {},
   "outputs": [
    {
     "name": "stdout",
     "output_type": "stream",
     "text": [
      "p_value bootstrap = 0.477\n"
     ]
    }
   ],
   "source": [
    "k_k = sum(delta_k_arr < delta_k)\n",
    "k_k += 1\n",
    "\n",
    "p_value_k = 1 - (k_k - 1)/1000\n",
    "print(f\"p_value bootstrap = {p_value_k}\")"
   ]
  },
  {
   "cell_type": "markdown",
   "id": "e516b5cb",
   "metadata": {},
   "source": [
    "## значение больше 0.05 Значит нет оснований отвергнуть основную гипотезу, т.е. добавление признака не значимо"
   ]
  },
  {
   "cell_type": "code",
   "execution_count": null,
   "id": "abf0d35a",
   "metadata": {},
   "outputs": [],
   "source": []
  }
 ],
 "metadata": {
  "kernelspec": {
   "display_name": "Python 3 (ipykernel)",
   "language": "python",
   "name": "python3"
  },
  "language_info": {
   "codemirror_mode": {
    "name": "ipython",
    "version": 3
   },
   "file_extension": ".py",
   "mimetype": "text/x-python",
   "name": "python",
   "nbconvert_exporter": "python",
   "pygments_lexer": "ipython3",
   "version": "3.8.3"
  }
 },
 "nbformat": 4,
 "nbformat_minor": 5
}
