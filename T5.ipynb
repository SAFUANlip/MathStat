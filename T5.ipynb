{
 "cells": [
  {
   "cell_type": "code",
   "execution_count": 305,
   "id": "fc0f304f",
   "metadata": {},
   "outputs": [],
   "source": [
    "import matplotlib.pyplot as plt\n",
    "import numpy as np\n",
    "import scipy.stats as sps\n",
    "from scipy.stats import pareto\n",
    "import math \n",
    "import statistics \n",
    "from scipy.integrate import quad\n",
    "from sklearn import preprocessing\n",
    "import seaborn as sns"
   ]
  },
  {
   "cell_type": "code",
   "execution_count": 221,
   "id": "12335979",
   "metadata": {},
   "outputs": [],
   "source": [
    "def teta_est(x):\n",
    "    return n/sum(np.log(x)) + 1"
   ]
  },
  {
   "cell_type": "code",
   "execution_count": 222,
   "id": "04cc6aa7",
   "metadata": {},
   "outputs": [],
   "source": [
    "n = 100\n",
    "teta = 5"
   ]
  },
  {
   "cell_type": "code",
   "execution_count": 235,
   "id": "a67256a3",
   "metadata": {},
   "outputs": [],
   "source": [
    "x = pareto.rvs(b=teta-1, size=n)"
   ]
  },
  {
   "cell_type": "code",
   "execution_count": 236,
   "id": "ad0aed6a",
   "metadata": {},
   "outputs": [
    {
     "data": {
      "text/plain": [
       "4.855386671772401"
      ]
     },
     "execution_count": 236,
     "metadata": {},
     "output_type": "execute_result"
    }
   ],
   "source": [
    "teta_e = teta_est(x)\n",
    "teta_e"
   ]
  },
  {
   "cell_type": "markdown",
   "id": "315bf45c",
   "metadata": {},
   "source": [
    "# Confidence interval"
   ]
  },
  {
   "cell_type": "markdown",
   "id": "a02419ee",
   "metadata": {},
   "source": [
    "## Confidence interval for median"
   ]
  },
  {
   "cell_type": "code",
   "execution_count": 237,
   "id": "a0c48ce9",
   "metadata": {},
   "outputs": [],
   "source": [
    "med_b1 = 2**(1/(teta_e-1)) - 1.96*2**(1/(teta_e-1))*np.log(2)/((teta_e-1)*n**0.5)\n",
    "med_b2 = 2**(1/(teta_e-1)) + 1.96*2**(1/(teta_e-1))*np.log(2)/((teta_e-1)*n**0.5)"
   ]
  },
  {
   "cell_type": "code",
   "execution_count": 238,
   "id": "ef0edf09",
   "metadata": {},
   "outputs": [
    {
     "name": "stdout",
     "output_type": "stream",
     "text": [
      "interval for median: (1.1547832289965891, 1.2391407775671646) real median: 1.1860838545756707\n"
     ]
    }
   ],
   "source": [
    "print(f'interval for median: ({med_b1}, {med_b2}) real median: {statistics.median(x)}')"
   ]
  },
  {
   "cell_type": "markdown",
   "id": "1b9f0507",
   "metadata": {},
   "source": [
    "## Asymptotic for theta"
   ]
  },
  {
   "cell_type": "code",
   "execution_count": 239,
   "id": "fd4fb2fe",
   "metadata": {},
   "outputs": [],
   "source": [
    "as_b1 = teta_e - 1.96*(teta_e - 1)/(n**0.5)\n",
    "as_b2 = teta_e + 1.96*(teta_e - 1)/(n**0.5)"
   ]
  },
  {
   "cell_type": "code",
   "execution_count": 240,
   "id": "bed1a35a",
   "metadata": {},
   "outputs": [
    {
     "name": "stdout",
     "output_type": "stream",
     "text": [
      "interval for theta: (4.09973088410501, 5.611042459439791) real theta: 5\n"
     ]
    }
   ],
   "source": [
    "print(f'interval for theta: ({as_b1}, {as_b2}) real theta: {teta}')"
   ]
  },
  {
   "cell_type": "markdown",
   "id": "b5175462",
   "metadata": {},
   "source": [
    "## Bootstrap "
   ]
  },
  {
   "cell_type": "code",
   "execution_count": 297,
   "id": "0e6b0489",
   "metadata": {},
   "outputs": [],
   "source": [
    "delta = np.array([])\n",
    "teta_boot = np.array([])\n",
    "\n",
    "for i in range(0,1000):\n",
    "    bootstrap = np.random.choice(x, size = x.shape[0]).round(2) \n",
    "    delta = np.append(delta, teta_est(bootstrap) - teta_e)\n",
    "    teta_boot = np.append(teta_boot, teta_est(bootstrap))\n",
    "    \n",
    "\n",
    "delta.sort() \n",
    "b1_boot, b2_boot = teta_e - delta[974], teta_e - delta[24] #better if i use 0.974 shape of delta"
   ]
  },
  {
   "cell_type": "code",
   "execution_count": 298,
   "id": "82d60863",
   "metadata": {},
   "outputs": [
    {
     "name": "stdout",
     "output_type": "stream",
     "text": [
      "bootstrap interval for theta : (4.04093624081855, 5.490585850861983) real theta: 5\n"
     ]
    }
   ],
   "source": [
    "print(f'bootstrap interval for theta : ({b1_boot}, {b2_boot}) real theta: {teta}')"
   ]
  },
  {
   "cell_type": "markdown",
   "id": "f1b8fb7a",
   "metadata": {},
   "source": [
    "## Parametric Bootstrap"
   ]
  },
  {
   "cell_type": "code",
   "execution_count": 276,
   "id": "6158fe98",
   "metadata": {},
   "outputs": [],
   "source": [
    "delta_par = np.array([])\n",
    "\n",
    "for i in range(50000):\n",
    "    bootstrap_par = pareto.rvs(b = teta-1, size=n)\n",
    "    delta_par = np.append(delta_par, teta_est(bootstrap_par) - teta_e)\n",
    "\n",
    "delta_par.sort() \n",
    "b1_boot_par, b2_boot_par = teta_e - delta_par[int(delta_par.shape[0]*0.974)], teta_e - delta_par[int(delta_par.shape[0]*0.024)]"
   ]
  },
  {
   "cell_type": "code",
   "execution_count": 277,
   "id": "f2e96a69",
   "metadata": {},
   "outputs": [
    {
     "name": "stdout",
     "output_type": "stream",
     "text": [
      "parametric bootstrap interval for theta : (3.799677100360271, 5.398924633436909) real theta: 5\n"
     ]
    }
   ],
   "source": [
    "print(f'parametric bootstrap interval for theta : ({b1_boot_par}, {b2_boot_par}) real theta: {teta}')"
   ]
  },
  {
   "cell_type": "markdown",
   "id": "e1704d95",
   "metadata": {},
   "source": [
    "## Bayes interval"
   ]
  },
  {
   "cell_type": "code",
   "execution_count": 245,
   "id": "8a5ad942",
   "metadata": {},
   "outputs": [],
   "source": [
    "import decimal\n",
    "decimal.getcontext().prec = 100"
   ]
  },
  {
   "cell_type": "code",
   "execution_count": 246,
   "id": "0b06271d",
   "metadata": {},
   "outputs": [],
   "source": [
    "def integrand(tet, x_prod, n):\n",
    "    return ((decimal.Decimal(tet - 1))**decimal.Decimal(n))*np.exp(decimal.Decimal(1-tet))/decimal.Decimal(decimal.Decimal(x_prod)**decimal.Decimal(tet))"
   ]
  },
  {
   "cell_type": "code",
   "execution_count": 247,
   "id": "107152bd",
   "metadata": {},
   "outputs": [],
   "source": [
    "x_prod = x.prod()\n",
    "res = quad(integrand, 1, np.inf, args=(decimal.Decimal(x_prod), decimal.Decimal(n)))"
   ]
  },
  {
   "cell_type": "code",
   "execution_count": 252,
   "id": "24930875",
   "metadata": {},
   "outputs": [
    {
     "data": {
      "text/plain": [
       "0.005768745730925612"
      ]
     },
     "execution_count": 252,
     "metadata": {},
     "output_type": "execute_result"
    }
   ],
   "source": [
    "c = 1/res[0]\n",
    "c "
   ]
  },
  {
   "cell_type": "code",
   "execution_count": 255,
   "id": "52f46f07",
   "metadata": {},
   "outputs": [],
   "source": [
    "def integrand_с(tet, x_prod, n, c):\n",
    "    return decimal.Decimal(c)*((decimal.Decimal(tet - 1))**decimal.Decimal(n))*np.exp(decimal.Decimal(1-tet))/decimal.Decimal(decimal.Decimal(x_prod)**decimal.Decimal(tet))"
   ]
  },
  {
   "cell_type": "code",
   "execution_count": 269,
   "id": "fa39db63",
   "metadata": {},
   "outputs": [
    {
     "name": "stdout",
     "output_type": "stream",
     "text": [
      "CPU times: total: 1min 12s\n",
      "Wall time: 1min 13s\n"
     ]
    },
    {
     "data": {
      "text/plain": [
       "(4.058058058058058, 5.50950950950951)"
      ]
     },
     "execution_count": 269,
     "metadata": {},
     "output_type": "execute_result"
    }
   ],
   "source": [
    "%%time\n",
    "\n",
    "b1_bay = 0\n",
    "b2_bay = teta*10\n",
    "\n",
    "for y in np.linspace(3.5, 6, num = 1000):\n",
    "    res_low = quad(integrand_с, 1, y, args=(decimal.Decimal(x_prod), decimal.Decimal(n), decimal.Decimal(c)))\n",
    "    res_high = quad(integrand_с, y, np.inf, args=(decimal.Decimal(x_prod), decimal.Decimal(n), decimal.Decimal(c)))\n",
    "    if abs(res_high[0] - 0.025) < 0.001 and y < b2_bay :\n",
    "        b2_bay = y\n",
    "    if abs(res_low[0] - 0.025) < 0.001:\n",
    "        b1_bay = y\n",
    "b1_bay, b2_bay"
   ]
  },
  {
   "cell_type": "code",
   "execution_count": null,
   "id": "befeb57e",
   "metadata": {},
   "outputs": [],
   "source": [
    "teta"
   ]
  },
  {
   "cell_type": "code",
   "execution_count": 331,
   "id": "65576417",
   "metadata": {},
   "outputs": [
    {
     "data": {
      "text/plain": [
       "<matplotlib.legend.Legend at 0x1ae4f760580>"
      ]
     },
     "execution_count": 331,
     "metadata": {},
     "output_type": "execute_result"
    },
    {
     "data": {
      "image/png": "[encoded data removed]",
      "text/plain": [
       "<Figure size 800x500 with 1 Axes>"
      ]
     },
     "metadata": {},
     "output_type": "display_data"
    }
   ],
   "source": [
    "fig, ax = plt.subplots(figsize=(8,5))\n",
    "\n",
    "ax.plot([b1_boot, b2_boot], [-1.5, -1.5], label = 'Bootstrap')\n",
    "ax.plot([b1_boot_par, b2_boot_par], [-0.5, -0.5], label = 'Param Bootstrap')\n",
    "ax.plot([as_b1, as_b2], [-1, -1], label = 'Asympt OPM')\n",
    "\n",
    "ax.plot([b1_bay, b2_bay], [-2, -2], label = 'Bayes')\n",
    "ax.plot([teta, teta], [-2.5,-0.1], label = 'Real teta')\n",
    "\n",
    "sns.histplot(teta_boot, ax = ax, bins = n, color = 'MediumPurple', stat = 'density')\n",
    "\n",
    "ax.set_title('Intervals')    \n",
    "\n",
    "ax.set_xlabel('theta interval')\n",
    "\n",
    "ax.legend(loc = 'best')"
   ]
  },
  {
   "cell_type": "code",
   "execution_count": null,
   "id": "785cb15b",
   "metadata": {},
   "outputs": [],
   "source": []
  }
 ],
 "metadata": {
  "kernelspec": {
   "display_name": "Python 3 (ipykernel)",
   "language": "python",
   "name": "python3"
  },
  "language_info": {
   "codemirror_mode": {
    "name": "ipython",
    "version": 3
   },
   "file_extension": ".py",
   "mimetype": "text/x-python",
   "name": "python",
   "nbconvert_exporter": "python",
   "pygments_lexer": "ipython3",
   "version": "3.8.3"
  }
 },
 "nbformat": 4,
 "nbformat_minor": 5
}
