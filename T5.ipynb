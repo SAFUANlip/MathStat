{
 "cells": [
  {
   "cell_type": "code",
   "execution_count": 50,
   "id": "43d30697",
   "metadata": {},
   "outputs": [],
   "source": [
    "import matplotlib.pyplot as plt\n",
    "import numpy as np\n",
    "import scipy.stats as sps\n",
    "from scipy.stats import pareto\n",
    "import math \n",
    "import statistics "
   ]
  },
  {
   "cell_type": "code",
   "execution_count": 41,
   "id": "0b3ce2d7",
   "metadata": {},
   "outputs": [],
   "source": [
    "n = 100\n",
    "teta = 5"
   ]
  },
  {
   "cell_type": "code",
   "execution_count": 42,
   "id": "5f499715",
   "metadata": {},
   "outputs": [],
   "source": [
    "x = pareto.rvs(b=teta-1, size=n)"
   ]
  },
  {
   "cell_type": "code",
   "execution_count": 43,
   "id": "825efa7c",
   "metadata": {},
   "outputs": [],
   "source": [
    "teta_e = n/sum(np.log(x)) + 1"
   ]
  },
  {
   "cell_type": "markdown",
   "id": "0b7a73e2",
   "metadata": {},
   "source": [
    "# Confidence interval"
   ]
  },
  {
   "cell_type": "markdown",
   "id": "4e962bcc",
   "metadata": {},
   "source": [
    "## Confidence interval for median"
   ]
  },
  {
   "cell_type": "code",
   "execution_count": 44,
   "id": "4190f269",
   "metadata": {},
   "outputs": [],
   "source": [
    "med_b1 = 2**(1/(teta_e-1)) - 1.96*2**(1/(teta_e-1))*np.log(2)/((teta_e-1)*n**0.5)\n",
    "med_b2 = 2**(1/(teta_e-1)) + 1.96*2**(1/(teta_e-1))*np.log(2)/((teta_e-1)*n**0.5)"
   ]
  },
  {
   "cell_type": "code",
   "execution_count": 61,
   "id": "b99b28bf",
   "metadata": {},
   "outputs": [
    {
     "name": "stdout",
     "output_type": "stream",
     "text": [
      "interval for median: (1.1578788037710899, 1.2441020597153796) real median: 1.191368826035503\n"
     ]
    }
   ],
   "source": [
    "print(f'interval for median: ({med_b1}, {med_b2}) real median: {statistics.median(x)}')"
   ]
  },
  {
   "cell_type": "markdown",
   "id": "2033259e",
   "metadata": {},
   "source": [
    "## Asymptotic for theta"
   ]
  },
  {
   "cell_type": "code",
   "execution_count": 64,
   "id": "83e57595",
   "metadata": {},
   "outputs": [],
   "source": [
    "as_b1 = teta_e - 1.96*(teta_e - 1)/(n**0.5)\n",
    "as_b2 = teta_e + 1.96*(teta_e - 1)/(n**0.5)"
   ]
  },
  {
   "cell_type": "code",
   "execution_count": 66,
   "id": "db349f71",
   "metadata": {},
   "outputs": [
    {
     "name": "stdout",
     "output_type": "stream",
     "text": [
      "interval for theta: (4.042865145836736, 5.526451137339225) real theta: 5\n"
     ]
    }
   ],
   "source": [
    "print(f'interval for theta: ({as_b1}, {as_b2}) real theta: {teta}')"
   ]
  },
  {
   "cell_type": "code",
   "execution_count": 71,
   "id": "dfc9f55c",
   "metadata": {},
   "outputs": [],
   "source": [
    "delta = np.array([])\n",
    "for i in range(0,1000):\n",
    "    bootstrap = np.random.choice(x, size = x.shape[0]).round(2) \n",
    "    delta = np.append(delta, n/sum(np.log(bootstrap)) + 1 - teta_e)\n",
    "\n",
    "delta.sort() \n",
    "b1_boot, b2_boot = teta_e - delta[974], teta_e - delta[24]"
   ]
  },
  {
   "cell_type": "code",
   "execution_count": 72,
   "id": "6bc32c9b",
   "metadata": {},
   "outputs": [
    {
     "name": "stdout",
     "output_type": "stream",
     "text": [
      "bootstrap interval for theta : (3.844506157711658, 5.461518453181821) real theta: 5\n"
     ]
    }
   ],
   "source": [
    "print(f'bootstrap interval for theta : ({b1_boot}, {b2_boot}) real theta: {teta}')"
   ]
  },
  {
   "cell_type": "code",
   "execution_count": null,
   "id": "0e5c2bbd",
   "metadata": {},
   "outputs": [],
   "source": []
  }
 ],
 "metadata": {
  "kernelspec": {
   "display_name": "Python 3 (ipykernel)",
   "language": "python",
   "name": "python3"
  },
  "language_info": {
   "codemirror_mode": {
    "name": "ipython",
    "version": 3
   },
   "file_extension": ".py",
   "mimetype": "text/x-python",
   "name": "python",
   "nbconvert_exporter": "python",
   "pygments_lexer": "ipython3",
   "version": "3.8.3"
  }
 },
 "nbformat": 4,
 "nbformat_minor": 5
}
